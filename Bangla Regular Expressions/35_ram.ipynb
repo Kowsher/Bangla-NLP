{
 "cells": [
  {
   "cell_type": "code",
   "execution_count": 1,
   "id": "filled-stone",
   "metadata": {},
   "outputs": [],
   "source": [
    "from bs4 import BeautifulSoup\n",
    "import re\n",
    "import regex\n",
    "from tqdm import tqdm\n",
    "from os import listdir\n",
    "from os.path import join\n",
    "import nltk\n",
    "import ast\n",
    "import sys\n",
    "import pandas as pd"
   ]
  },
  {
   "cell_type": "code",
   "execution_count": 2,
   "id": "large-occupation",
   "metadata": {},
   "outputs": [],
   "source": [
    "intentxl=pd.ExcelFile('Voice Banking Demo Examples.xlsx')\n",
    "intents=intentxl.sheet_names"
   ]
  },
  {
   "cell_type": "code",
   "execution_count": 3,
   "id": "signal-growing",
   "metadata": {},
   "outputs": [],
   "source": [
    "# General cleaning script, slightly modified for intents\n",
    "w2npath='/home/hishab/langresource/data/num_conversion_dicts/bn_common_word_2_num.dict'\n",
    "with open(w2npath,'r') as f1: w2n=ast.literal_eval(f1.read())\n",
    "sys.path.insert(1, '/home/hishab/asr/training/preprocessing/')\n",
    "from num_2_standard_bn_words import num_2_word\n",
    "replace_chars={'য়':'য়','ড়':'ড়','ো':'ো',\"৷\":\" \",\"ৱ\":\"র\",\"ৰ\":\"র\",'ৌ':'ৌ',\"৺\":\"\",\"ঌ\":\"৯\",\n",
    "               \"৻\":\"\",\"৹\":\"\",\"৥\":\"\",\"ঽ\":\"হ\",\"৸\":\"\",\"৶\":\"\",\"৤\":\"\",'ৗ':'',\"৵\":\"\",'ৣ':\"্র\",\n",
    "              \"৳\":\"ট\",\"৅\":\"\",\"৤\":\"\",\"৤\":\"\",\"৴\":\"\",\"ঢ়\":\"ঢ়\",\"spn\":\" \"}\n",
    "def nummaker(obj):\n",
    "    numchanged=' '+num_2_word(obj.group(1),w2n)+' '\n",
    "    return numchanged\n",
    "def clean_intents(uncleanlines):\n",
    "    cleanlines=[]\n",
    "    for cleanstep in tqdm(uncleanlines):\n",
    "        for k,v in replace_chars.items(): cleanstep=str(cleanstep).replace(k,v)\n",
    "        cleanstep=cleanstep.replace(u'\\xa0', u' ')\n",
    "        for pattern in re.findall(r'\\d+\\s+-\\s+\\d+',cleanstep): cleanstep=cleanstep.replace(pattern,pattern.replace('-',' থেকে ')) \n",
    "        cleanstep=re.sub(\"[\\(\\[].*?[\\)\\]]\", \" \",cleanstep) # Remove anything contained within brackets, including the brackets\n",
    "                                                          # Must be done before removing non-alphabetic characters\n",
    "        if re.search(r'[a-zA-Z]',cleanstep): # Drop if cleaned sentence contains English characters\n",
    "            continue\n",
    "        try:\n",
    "            cleanstep=re.sub(r'([0-9০-৯]+)',nummaker,cleanstep) # Replace numbers in the string\n",
    "        except:\n",
    "            continue # The number is too long. Likely a phone number. Drop this sample entirely. \n",
    "        cleanstep=re.sub(\"%\",\" শতাংশ \",cleanstep) # Benefit of doubt - let % within the survived sample be percentage\n",
    "        cleanstep=regex.sub('[^\\p{InBengali}\\p{Z}]',' ',cleanstep) # Remove non-letters, non-glyphs, and non-spaces\n",
    "        cleanstep=re.sub(' +', ' ',cleanstep) # Finally, merge multiple spaces\n",
    "        cleanstep=cleanstep.strip() # Remove leading and trailing whitespaces\n",
    "        if len(cleanstep): # Cleaned sentence isn't empty\n",
    "            cleanlines.append('    - '+cleanstep+'\\n')\n",
    "    print(\"Input: \",len(uncleanlines),\" sentences. Output: \",len(cleanlines),\" sentences.\")\n",
    "    return cleanlines"
   ]
  },
  {
   "cell_type": "code",
   "execution_count": 4,
   "id": "killing-snowboard",
   "metadata": {},
   "outputs": [
    {
     "name": "stderr",
     "output_type": "stream",
     "text": [
      "100%|██████████| 23/23 [00:00<00:00, 11835.23it/s]\n",
      "100%|██████████| 24/24 [00:00<00:00, 34157.89it/s]\n",
      "100%|██████████| 21/21 [00:00<00:00, 25974.75it/s]\n",
      "100%|██████████| 21/21 [00:00<00:00, 19851.34it/s]\n",
      "100%|██████████| 27/27 [00:00<00:00, 37449.14it/s]\n",
      "100%|██████████| 27/27 [00:00<00:00, 41031.23it/s]\n",
      "100%|██████████| 25/25 [00:00<00:00, 38893.77it/s]\n",
      "100%|██████████| 25/25 [00:00<00:00, 38311.14it/s]\n",
      "100%|██████████| 21/21 [00:00<00:00, 28588.25it/s]\n"
     ]
    },
    {
     "name": "stdout",
     "output_type": "stream",
     "text": [
      "Input:  23  sentences. Output:  23  sentences.\n",
      "Input:  24  sentences. Output:  24  sentences.\n",
      "Input:  21  sentences. Output:  21  sentences.\n",
      "Input:  21  sentences. Output:  21  sentences.\n",
      "Input:  27  sentences. Output:  23  sentences.\n",
      "Input:  27  sentences. Output:  23  sentences.\n",
      "Input:  25  sentences. Output:  21  sentences.\n",
      "Input:  25  sentences. Output:  20  sentences.\n",
      "Input:  21  sentences. Output:  21  sentences.\n"
     ]
    },
    {
     "name": "stderr",
     "output_type": "stream",
     "text": [
      "100%|██████████| 21/21 [00:00<00:00, 34897.14it/s]\n",
      "100%|██████████| 25/25 [00:00<00:00, 22075.28it/s]\n",
      "100%|██████████| 25/25 [00:00<00:00, 37475.91it/s]\n",
      "100%|██████████| 9/9 [00:00<00:00, 25233.11it/s]\n",
      "100%|██████████| 9/9 [00:00<00:00, 26453.21it/s]\n",
      "100%|██████████| 9/9 [00:00<00:00, 25557.71it/s]\n",
      "100%|██████████| 12/12 [00:00<00:00, 28711.72it/s]"
     ]
    },
    {
     "name": "stdout",
     "output_type": "stream",
     "text": [
      "Input:  21  sentences. Output:  21  sentences.\n",
      "Input:  25  sentences. Output:  22  sentences.\n",
      "Input:  25  sentences. Output:  22  sentences.\n",
      "Input:  9  sentences. Output:  9  sentences.\n",
      "Input:  9  sentences. Output:  9  sentences.\n",
      "Input:  9  sentences. Output:  9  sentences.\n",
      "Input:  12  sentences. Output:  12  sentences.\n"
     ]
    },
    {
     "name": "stderr",
     "output_type": "stream",
     "text": [
      "\n"
     ]
    }
   ],
   "source": [
    "with open('CleanIntents.nlu','w') as f:\n",
    "    for intent in intents:\n",
    "        intentdf=pd.read_excel('Voice Banking Demo Examples.xlsx',sheet_name=intent)\n",
    "        intentexamples=intentdf.values[:,0]\n",
    "        f.write('- intent: '+intent+'\\n  examples: |\\n')\n",
    "        cleanexamples=clean_intents(intentexamples)\n",
    "        f.writelines(cleanexamples)\n",
    "        f.write('\\n')"
   ]
  },
  {
   "cell_type": "code",
   "execution_count": null,
   "id": "interracial-repair",
   "metadata": {},
   "outputs": [],
   "source": []
  }
 ],
 "metadata": {
  "kernelspec": {
   "display_name": "Python 3",
   "language": "python",
   "name": "python3"
  },
  "language_info": {
   "codemirror_mode": {
    "name": "ipython",
    "version": 3
   },
   "file_extension": ".py",
   "mimetype": "text/x-python",
   "name": "python",
   "nbconvert_exporter": "python",
   "pygments_lexer": "ipython3",
   "version": "3.6.9"
  }
 },
 "nbformat": 4,
 "nbformat_minor": 5
}
